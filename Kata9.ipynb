{
 "cells": [
  {
   "cell_type": "markdown",
   "metadata": {},
   "source": [
    "# Kata 9"
   ]
  },
  {
   "cell_type": "markdown",
   "metadata": {},
   "source": [
    "## Ejercicio 1"
   ]
  },
  {
   "cell_type": "code",
   "execution_count": 2,
   "metadata": {},
   "outputs": [],
   "source": [
    "# Función para leer 3 tanques de combustible y muestre el promedio\n",
    "\n",
    "def informe (comb1, comb2, comb3) :\n",
    "    prom = (comb1 + comb2 + comb3) / 3\n",
    "    print(f'El promedio es: {prom}')"
   ]
  },
  {
   "cell_type": "code",
   "execution_count": 3,
   "metadata": {},
   "outputs": [
    {
     "name": "stdout",
     "output_type": "stream",
     "text": [
      "El promedio es: 75.0\n"
     ]
    }
   ],
   "source": [
    "# Llamamos a la función que genera el reporte print(funcion(tanque1, tanque2, tanque3))\n",
    "\n",
    "informe(70,75,80)"
   ]
  },
  {
   "cell_type": "code",
   "execution_count": 4,
   "metadata": {},
   "outputs": [],
   "source": [
    "# Función promedio\n",
    "\n",
    "def promedio(*a) :\n",
    "    return (sum(a)/len(a))"
   ]
  },
  {
   "cell_type": "code",
   "execution_count": 5,
   "metadata": {},
   "outputs": [],
   "source": [
    "# Actualiza la función\n",
    "\n",
    "def informe (comb1, comb2, comb3) :\n",
    "    print(f'El promedio es: {promedio(comb1, comb2, comb3)}')"
   ]
  },
  {
   "cell_type": "code",
   "execution_count": 6,
   "metadata": {},
   "outputs": [
    {
     "name": "stdout",
     "output_type": "stream",
     "text": [
      "El promedio es: 75.0\n"
     ]
    }
   ],
   "source": [
    "informe(70,75,80)"
   ]
  },
  {
   "cell_type": "markdown",
   "metadata": {},
   "source": [
    "## Ejercicio 2"
   ]
  },
  {
   "cell_type": "code",
   "execution_count": 7,
   "metadata": {},
   "outputs": [
    {
     "name": "stdout",
     "output_type": "stream",
     "text": [
      " \n",
      "    Destino: Marte\n",
      "    Tiempo de vuelo total: 150 minutos \n",
      "    Total de combustible: 500000 litros\n"
     ]
    }
   ],
   "source": [
    "# Función con un informe preciso de la misión. Considera hora de prelanzamiento, tiempo de vuelo, destino, tanque externo y tanque interno\n",
    "\n",
    "def informe2 (hr_pre, tiemp, dest, tanext, tanint) :\n",
    "    return f''' \n",
    "    Destino: {dest}\n",
    "    Tiempo de vuelo total: {hr_pre + tiemp} minutos \n",
    "    Total de combustible: {tanext + tanint} litros'''\n",
    "\n",
    "print(informe2(60, 90, \"Marte\", 200000, 300000))"
   ]
  },
  {
   "cell_type": "code",
   "execution_count": 8,
   "metadata": {},
   "outputs": [
    {
     "name": "stdout",
     "output_type": "stream",
     "text": [
      " \n",
      "    Destino: Marte\n",
      "    Tiempo de vuelo total: 150 minutos \n",
      "    Total de combustible: 500000 litros\n"
     ]
    }
   ],
   "source": [
    "# Escribe tu nueva función de reporte considerando lo anterior\n",
    "\n",
    "def informe2 (dest, *minutes, **comb) :\n",
    "    return f''' \n",
    "    Destino: {dest}\n",
    "    Tiempo de vuelo total: {sum(minutes)} minutos \n",
    "    Total de combustible: {sum(comb.values())} litros'''\n",
    "\n",
    "print(informe2(\"Marte\", 60, 90, interno=200000, externo=300000))"
   ]
  },
  {
   "cell_type": "code",
   "execution_count": 12,
   "metadata": {},
   "outputs": [
    {
     "name": "stdout",
     "output_type": "stream",
     "text": [
      " \n",
      "    Destino: Marte\n",
      "    Tiempo de vuelo total: 150 minutos \n",
      "    Total de combustible: 500000 litros\n",
      "Tanque interno --> 200000 litros left\n",
      "Tanque externo --> 300000 litros left\n"
     ]
    }
   ],
   "source": [
    "# Escribe tu nueva función\n",
    "\n",
    "def informe2 (dest, *minutes, **comb) :\n",
    "    reporte = f''' \n",
    "    Destino: {dest}\n",
    "    Tiempo de vuelo total: {sum(minutes)} minutos \n",
    "    Total de combustible: {sum(comb.values())} litros'''\n",
    "\n",
    "    for nom, litros in comb.items():\n",
    "        reporte += f\"\\nTanque {nom} --> {litros} litros left\"\n",
    "    return reporte\n",
    "\n",
    "print(informe2(\"Marte\", 60, 90, interno=200000, externo=300000))"
   ]
  }
 ],
 "metadata": {
  "interpreter": {
   "hash": "eb9ecab9c320c9f4efd2db85f937103cfef82960246491e79365f22ef6214198"
  },
  "kernelspec": {
   "display_name": "Python 3.10.2 64-bit",
   "language": "python",
   "name": "python3"
  },
  "language_info": {
   "codemirror_mode": {
    "name": "ipython",
    "version": 3
   },
   "file_extension": ".py",
   "mimetype": "text/x-python",
   "name": "python",
   "nbconvert_exporter": "python",
   "pygments_lexer": "ipython3",
   "version": "3.10.2"
  },
  "orig_nbformat": 4
 },
 "nbformat": 4,
 "nbformat_minor": 2
}
