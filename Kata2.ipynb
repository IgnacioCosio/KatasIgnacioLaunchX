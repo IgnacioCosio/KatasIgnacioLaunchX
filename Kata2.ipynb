{
 "cells": [
  {
   "cell_type": "markdown",
   "metadata": {},
   "source": [
    "# Kata 2"
   ]
  }
 ],
 "metadata": {
  "interpreter": {
   "hash": "eb9ecab9c320c9f4efd2db85f937103cfef82960246491e79365f22ef6214198"
  },
  "kernelspec": {
   "display_name": "Python 3.10.2 64-bit",
   "language": "python",
   "name": "python3"
  },
  "language_info": {
   "name": "python",
   "version": "3.10.2"
  },
  "orig_nbformat": 4
 },
 "nbformat": 4,
 "nbformat_minor": 2
}
