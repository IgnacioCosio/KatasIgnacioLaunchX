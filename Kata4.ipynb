{
 "cells": [
  {
   "cell_type": "markdown",
   "metadata": {},
   "source": [
    "# Kata 4"
   ]
  },
  {
   "cell_type": "markdown",
   "metadata": {},
   "source": [
    "## Ejercicio 1"
   ]
  },
  {
   "cell_type": "code",
   "execution_count": 1,
   "metadata": {},
   "outputs": [],
   "source": [
    "text = \"\"\"Interesting facts about the Moon. The Moon is Earth's only satellite. There are several interesting facts about the Moon and how it affects life here on Earth. \n",
    "On average, the Moon moves 4cm away from the Earth every year. This yearly drift is not significant enough to cause immediate effects on Earth. The highest daylight temperature of the Moon is 127 C.\"\"\""
   ]
  },
  {
   "cell_type": "code",
   "execution_count": 2,
   "metadata": {},
   "outputs": [
    {
     "data": {
      "text/plain": [
       "['Interesting',\n",
       " 'facts',\n",
       " 'about',\n",
       " 'the',\n",
       " 'Moon.',\n",
       " 'The',\n",
       " 'Moon',\n",
       " 'is',\n",
       " \"Earth's\",\n",
       " 'only',\n",
       " 'satellite.',\n",
       " 'There',\n",
       " 'are',\n",
       " 'several',\n",
       " 'interesting',\n",
       " 'facts',\n",
       " 'about',\n",
       " 'the',\n",
       " 'Moon',\n",
       " 'and',\n",
       " 'how',\n",
       " 'it',\n",
       " 'affects',\n",
       " 'life',\n",
       " 'here',\n",
       " 'on',\n",
       " 'Earth.',\n",
       " 'On',\n",
       " 'average,',\n",
       " 'the',\n",
       " 'Moon',\n",
       " 'moves',\n",
       " '4cm',\n",
       " 'away',\n",
       " 'from',\n",
       " 'the',\n",
       " 'Earth',\n",
       " 'every',\n",
       " 'year.',\n",
       " 'This',\n",
       " 'yearly',\n",
       " 'drift',\n",
       " 'is',\n",
       " 'not',\n",
       " 'significant',\n",
       " 'enough',\n",
       " 'to',\n",
       " 'cause',\n",
       " 'immediate',\n",
       " 'effects',\n",
       " 'on',\n",
       " 'Earth.',\n",
       " 'The',\n",
       " 'highest',\n",
       " 'daylight',\n",
       " 'temperature',\n",
       " 'of',\n",
       " 'the',\n",
       " 'Moon',\n",
       " 'is',\n",
       " '127',\n",
       " 'C.']"
      ]
     },
     "execution_count": 2,
     "metadata": {},
     "output_type": "execute_result"
    }
   ],
   "source": [
    "# Añade el código necesario\n",
    "\n",
    "text.split()"
   ]
  },
  {
   "cell_type": "code",
   "execution_count": 6,
   "metadata": {},
   "outputs": [
    {
     "name": "stdout",
     "output_type": "stream",
     "text": [
      "temperature\n",
      "Interesting facts about the Moon. The Moon is Earth's only satellite. There are several interesting facts about the Moon and how it affects life here on Earth. \n",
      "On average, the Moon moves 4cm away from the Earth every year. This yearly drift is not significant enough to cause immediate effects on Earth. The highest daylight temperature of the Moon is 127 C.\n"
     ]
    }
   ],
   "source": [
    "# Define las palabras pista: average, temperature y distance suenan bien\n",
    "# Ciclo for para recorrer la cadena\n",
    "# Ciclo para cambiar C a Celsius\n",
    "\n",
    "av = \"average\"\n",
    "temp = \"temperature\"\n",
    "dis = \"distance\"\n",
    "\n",
    "for item in text.split() :\n",
    "    if item.lower() == av or item.lower() == temp or item.lower() == dis :\n",
    "        print(item)\n",
    "    elif item == \"C\" :\n",
    "        item.replace(\"Celsius\")\n",
    "\n",
    "print(text)"
   ]
  },
  {
   "cell_type": "markdown",
   "metadata": {},
   "source": [
    "## Ejercicio 2"
   ]
  },
  {
   "cell_type": "code",
   "execution_count": 7,
   "metadata": {},
   "outputs": [],
   "source": [
    "# Datos con los que vas a trabajar\n",
    "\n",
    "name = \"Moon\"\n",
    "gravity = 0.00162 # in kms\n",
    "planet = \"Earth\""
   ]
  },
  {
   "cell_type": "code",
   "execution_count": 28,
   "metadata": {},
   "outputs": [
    {
     "name": "stdout",
     "output_type": "stream",
     "text": [
      "Datos de gravedad sobre Ganímedes\n"
     ]
    }
   ],
   "source": [
    "# Creamos el título\n",
    "\n",
    "title = f'Datos de gravedad sobre {name}'\n",
    "print(title)"
   ]
  },
  {
   "cell_type": "code",
   "execution_count": 35,
   "metadata": {},
   "outputs": [
    {
     "name": "stdout",
     "output_type": "stream",
     "text": [
      "\n",
      "--------------------------------------------------\n",
      " Gravedad en Ganímedes: 1.4300000000000002 m/s2\n"
     ]
    }
   ],
   "source": [
    "multi = f\"\\n{'-'*50}\\n Gravedad en {name}: {gravity * 1000} m/s2\"\n",
    "print(multi)"
   ]
  },
  {
   "cell_type": "code",
   "execution_count": 36,
   "metadata": {},
   "outputs": [
    {
     "name": "stdout",
     "output_type": "stream",
     "text": [
      "Datos de gravedad sobre Ganímedes\n",
      "--------------------------------------------------\n",
      " Gravedad en Ganímedes: 1.4300000000000002 m/s2\n"
     ]
    }
   ],
   "source": [
    "tot = title + multi\n",
    "print(tot)"
   ]
  },
  {
   "cell_type": "code",
   "execution_count": 37,
   "metadata": {},
   "outputs": [
    {
     "name": "stdout",
     "output_type": "stream",
     "text": [
      "Datos de gravedad sobre Ganímedes\n",
      "--------------------------------------------------\n",
      " Gravedad en Ganímedes: 1.4300000000000002 m/s2\n"
     ]
    }
   ],
   "source": [
    "planet = 'Marte '\n",
    "gravity  = 0.00143\n",
    "name = 'Ganímedes'\n",
    "\n",
    "print(tot)"
   ]
  }
 ],
 "metadata": {
  "interpreter": {
   "hash": "aee8b7b246df8f9039afb4144a1f6fd8d2ca17a180786b69acc140d282b71a49"
  },
  "kernelspec": {
   "display_name": "Python 3.10.2 64-bit",
   "language": "python",
   "name": "python3"
  },
  "language_info": {
   "codemirror_mode": {
    "name": "ipython",
    "version": 3
   },
   "file_extension": ".py",
   "mimetype": "text/x-python",
   "name": "python",
   "nbconvert_exporter": "python",
   "pygments_lexer": "ipython3",
   "version": "3.10.2"
  },
  "orig_nbformat": 4
 },
 "nbformat": 4,
 "nbformat_minor": 2
}
